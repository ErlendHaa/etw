{
 "cells": [
  {
   "cell_type": "code",
   "execution_count": null,
   "metadata": {},
   "outputs": [],
   "source": [
    "import matplotlib.pyplot as matplt\n",
    "import numpy as np\n",
    "from etw import etw"
   ]
  },
  {
   "cell_type": "code",
   "execution_count": null,
   "metadata": {},
   "outputs": [],
   "source": [
    "def diff_cost(s, t):\n",
    "    return lambda i, k: abs(s[i] - t[k])\n",
    "\n",
    "def const_cost(s, t, c=1.0):\n",
    "    return lambda i, k: c + abs(s[i] - t[k])\n",
    "\n",
    "def mean_cost(s, t):\n",
    "    m2 = np.mean(np.abs(s)) + np.mean(np.abs(t))\n",
    "    return const_cost(s, t, m2 / 2.0)\n",
    "\n",
    "def std_cost(s, t):\n",
    "    m = (np.std(np.abs(s)) + np.std(np.abs(t))) / 2.0\n",
    "    return const_cost(s, t, m)\n",
    "\n",
    "def dx_cost(s, t):\n",
    "    c = 1.0 / min(len(s), len(t))\n",
    "    return const_cost(s, t, c)"
   ]
  },
  {
   "cell_type": "code",
   "execution_count": null,
   "metadata": {},
   "outputs": [],
   "source": [
    "s = [3, 2, 1, 2, 3,      4,       5,       6, 7]\n",
    "t =       [1, 2, 3, 4, 4.2, 4, 4, 5, 5, 5]\n",
    "path, acc_cost, cost, lengths = etw(len(s), len(t), cost=const_cost(s, t, 0.5))\n",
    "\n",
    "acc_cost_np = np.array(acc_cost)\n",
    "cost_np = np.array(cost)\n",
    "lengths_np = np.array(lengths)\n",
    "\n",
    "\n",
    "%matplotlib notebook\n",
    "f = matplt.figure(figsize=(9, 3))\n",
    "\n",
    "f.add_subplot(1, 3, 1)\n",
    "matplt.imshow(acc_cost_np.T, origin='lower', cmap='viridis', interpolation='nearest')\n",
    "matplt.plot(path[0], path[1], 'w')\n",
    "\n",
    "f.add_subplot(1, 3, 2)\n",
    "matplt.imshow(cost_np.T, origin='lower', cmap='viridis', interpolation='nearest')\n",
    "matplt.plot(path[0], path[1], 'w')\n",
    "\n",
    "f.add_subplot(1, 3, 3)\n",
    "matplt.imshow(lengths_np.T, origin='lower', cmap='viridis', interpolation='nearest')\n",
    "matplt.plot(path[0], path[1], 'w')\n",
    "\n",
    "matplt.show()\n",
    "\n",
    "path"
   ]
  },
  {
   "cell_type": "code",
   "execution_count": null,
   "metadata": {},
   "outputs": [],
   "source": []
  }
 ],
 "metadata": {
  "kernelspec": {
   "display_name": "Python 3",
   "language": "python",
   "name": "python3"
  },
  "language_info": {
   "codemirror_mode": {
    "name": "ipython",
    "version": 3
   },
   "file_extension": ".py",
   "mimetype": "text/x-python",
   "name": "python",
   "nbconvert_exporter": "python",
   "pygments_lexer": "ipython3",
   "version": "3.5.1"
  }
 },
 "nbformat": 4,
 "nbformat_minor": 2
}
